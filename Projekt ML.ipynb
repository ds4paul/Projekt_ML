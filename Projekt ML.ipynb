{
 "cells": [
  {
   "cell_type": "markdown",
   "id": "a51d97ab",
   "metadata": {},
   "source": [
    "# Projekt ML.\n",
    "\n",
    "Do analizy przyjęto dane ze zbiotu 'cars.csv'\n",
    "\n",
    "Zestawy danych przygotowano w części \"Projekt ML, przygotowanie danych\"\n",
    "\n",
    "## Cel analizy: Od czego zależy bardziej ekonomiczne zużycie paliwa? Czy da się przewidzieć zużycie paliwa na podstawie danych ze zbioru?\n",
    "\n",
    "Uczenie maszynowe będzie wykorzystywać regresję.\n",
    "\n",
    "Dane do przetwarzania przygotowano z zamiarem pokazania wpływu jakości danych na efekty uczenia maszynowego.\n",
    "\n",
    "Przygotowane zbiory danych:\n",
    "\n",
    "Zbiór 1. Dane kategoryczne zostaną potraktowane jako liczbowe, kolumna 'names' nie bierze udziału w ML\n",
    "\n",
    "Zbiór 2. Dane kategoryczne 'origin' rozdzielone (dummies), reszta danych jako dane liczbowe, kolumna 'names' nie bierze udziału w ML\n",
    "\n",
    "Zbiór 3. Dane kategoryczne 'origin' i 'displacement' rozdzielone (dummies), reszta danych jako dane liczbowe, kolumna 'names' nie bierze udziału w ML\n",
    "\n",
    "Zbiór 4. Dane kategoryczne 'origin' i 'displacement' rozdzielone (dummies), reszta danych jako dane liczbowe, kolumna 'names' zostaje rozpisana na słownik i bierze udział w ML  (taka namiastka LLM, to jest dobry moment na uśmiech)\n",
    "\n",
    "Uczenie maszynowe z wykorzystaniem algorytmów:\n",
    "\n",
    "* sklearn: LinearRegression\n",
    "\n",
    "* sklearn: KNeighborsRegressor\n",
    "\n",
    "W celu pokazania jak radzą sobie inne algorytmy ML pokazano parametry uczenia dla RandomForestRegressor oraz xgboost. Chodzi o pokazanie punktu odniesienia.\n",
    "\n",
    "\n",
    "Hiperparametry algorytmów uczenia maszynowego nie są optymalizowane, przyjęto wartiości \"przyzwoite\"\n",
    "\n",
    "W celu pozostawienia pola do popisu ocena uczenia realizowana jest metodą .score()"
   ]
  },
  {
   "cell_type": "code",
   "execution_count": 40,
   "id": "0a0e3a76",
   "metadata": {},
   "outputs": [],
   "source": [
    "# import potrzebnych bibliotek\n",
    "import numpy as np\n",
    "import pandas as pd\n",
    "import seaborn as sns\n",
    "\n",
    "from sklearn.model_selection import train_test_split, GridSearchCV, KFold, cross_val_score\n",
    "from sklearn.preprocessing import StandardScaler\n",
    "\n",
    "from sklearn.linear_model import LinearRegression\n",
    "from sklearn.neighbors import KNeighborsRegressor\n",
    "from sklearn.ensemble import RandomForestRegressor\n",
    "import xgboost as xg\n"
   ]
  },
  {
   "cell_type": "code",
   "execution_count": 41,
   "id": "fb185805",
   "metadata": {},
   "outputs": [],
   "source": [
    "# przygotowanie zestawienia zbiorów\n",
    "data_file_names = [ 'cars_4_ML_no_dummy_cleared.csv', 'cars_4_ML_dummy_origin_cleared.csv',\n",
    "              'cars_4_ML_dummy_all_cleared.csv', 'cars_4_ML_dummy_all_LLM_cleared.csv']\n",
    "data_names = [ 'num', 'num_cat_origin', 'num_cat_all', 'num_cat_all_LLM' ]"
   ]
  },
  {
   "cell_type": "code",
   "execution_count": 42,
   "id": "1a69561b",
   "metadata": {},
   "outputs": [],
   "source": [
    "# przygotowanie zestawienia modeli\n",
    "model_lin = LinearRegression()\n",
    "model_knn = KNeighborsRegressor(n_neighbors=5)\n",
    "model_rf = RandomForestRegressor(n_estimators=100, random_state=0, n_jobs=-1)\n",
    "model_xgb = xg.XGBRegressor(objective ='reg:linear', n_estimators = 100, seed = 0)\n",
    "\n",
    "models = [ model_lin, model_knn, model_rf, model_xgb ]\n",
    "models_names = [ 'model_lin', 'model_knn', 'model_rf', 'model_xgb' ]"
   ]
  },
  {
   "cell_type": "code",
   "execution_count": 43,
   "id": "48781fb6",
   "metadata": {},
   "outputs": [
    {
     "name": "stderr",
     "output_type": "stream",
     "text": [
      "c:\\Users\\MG\\Documents\\Studia podyplomowe\\PG\\ML\\.venv\\Lib\\site-packages\\xgboost\\training.py:183: UserWarning: [20:55:47] WARNING: C:\\actions-runner\\_work\\xgboost\\xgboost\\src\\objective\\regression_obj.cu:250: reg:linear is now deprecated in favor of reg:squarederror.\n",
      "  bst.update(dtrain, iteration=i, fobj=obj)\n",
      "c:\\Users\\MG\\Documents\\Studia podyplomowe\\PG\\ML\\.venv\\Lib\\site-packages\\xgboost\\training.py:183: UserWarning: [20:55:47] WARNING: C:\\actions-runner\\_work\\xgboost\\xgboost\\src\\objective\\regression_obj.cu:250: reg:linear is now deprecated in favor of reg:squarederror.\n",
      "  bst.update(dtrain, iteration=i, fobj=obj)\n",
      "c:\\Users\\MG\\Documents\\Studia podyplomowe\\PG\\ML\\.venv\\Lib\\site-packages\\xgboost\\training.py:183: UserWarning: [20:55:48] WARNING: C:\\actions-runner\\_work\\xgboost\\xgboost\\src\\objective\\regression_obj.cu:250: reg:linear is now deprecated in favor of reg:squarederror.\n",
      "  bst.update(dtrain, iteration=i, fobj=obj)\n"
     ]
    },
    {
     "name": "stdout",
     "output_type": "stream",
     "text": [
      "          data_name model_name score_train score_test\n",
      "0               num  model_lin    0.832622   0.828823\n",
      "1               num  model_knn     0.89511   0.870602\n",
      "2               num   model_rf    0.980802   0.909116\n",
      "3               num  model_xgb    0.999989   0.908028\n",
      "4    num_cat_origin  model_lin    0.876747   0.848826\n",
      "5    num_cat_origin  model_knn    0.927059   0.893803\n",
      "6    num_cat_origin   model_rf      0.9869    0.91875\n",
      "7    num_cat_origin  model_xgb    0.999992   0.908184\n",
      "8       num_cat_all  model_lin    0.886706   0.820164\n",
      "9       num_cat_all  model_knn    0.929549    0.85214\n",
      "10      num_cat_all   model_rf    0.986673   0.893801\n",
      "11      num_cat_all  model_xgb    0.999994   0.893935\n",
      "12  num_cat_all_LLM  model_lin    0.982354   0.772834\n",
      "13  num_cat_all_LLM  model_knn    0.793263   0.669914\n",
      "14  num_cat_all_LLM   model_rf    0.987253   0.890397\n",
      "15  num_cat_all_LLM  model_xgb    0.999681    0.87225\n"
     ]
    },
    {
     "name": "stderr",
     "output_type": "stream",
     "text": [
      "c:\\Users\\MG\\Documents\\Studia podyplomowe\\PG\\ML\\.venv\\Lib\\site-packages\\xgboost\\training.py:183: UserWarning: [20:55:48] WARNING: C:\\actions-runner\\_work\\xgboost\\xgboost\\src\\objective\\regression_obj.cu:250: reg:linear is now deprecated in favor of reg:squarederror.\n",
      "  bst.update(dtrain, iteration=i, fobj=obj)\n"
     ]
    }
   ],
   "source": [
    "results = pd.DataFrame(columns= ['data_name', 'model_name', 'score_train', 'score_test'])\n",
    "for data in data_names:\n",
    "    df = pd.read_csv(data_file_names[data_names.index(data)])\n",
    "    X_no_scaler = df.drop(columns=['name', 'mpg']).values\n",
    "    scaler_x = StandardScaler()\n",
    "    X = scaler_x.fit_transform(X_no_scaler)\n",
    "    y_no_scaler = df['mpg'].values.reshape((-1,1))\n",
    "    scaler_y = StandardScaler()\n",
    "    y = scaler_y.fit_transform(y_no_scaler).reshape((-1,))\n",
    "    \n",
    "    X_train, X_test, y_train, y_test = train_test_split(X, y, test_size=0.2, random_state=0)\n",
    "    \n",
    "    for model in models:\n",
    "        model_name = models_names[models.index(model)]\n",
    "        model.fit(X_train, y_train)\n",
    "        \n",
    "        score_train = model.score(X_train, y_train)\n",
    "        score_test = model.score(X_test, y_test)\n",
    "\n",
    "        index = len(results)\n",
    "        results.loc[index,'data_name'] = data\n",
    "        results.loc[index,'model_name'] = model_name\n",
    "        results.loc[index,'score_train'] = score_train\n",
    "        results.loc[index,'score_test'] = score_test\n",
    "        \n",
    "        \n",
    "    \n",
    "print(results)"
   ]
  },
  {
   "cell_type": "code",
   "execution_count": 44,
   "id": "e752ee46",
   "metadata": {},
   "outputs": [
    {
     "name": "stdout",
     "output_type": "stream",
     "text": [
      "  data_name model_name score_train score_test\n",
      "0       num  model_lin    0.832622   0.828823\n",
      "1       num  model_knn     0.89511   0.870602\n",
      "2       num   model_rf    0.980802   0.909116\n",
      "3       num  model_xgb    0.999989   0.908028\n",
      "        data_name model_name score_train score_test\n",
      "4  num_cat_origin  model_lin    0.876747   0.848826\n",
      "5  num_cat_origin  model_knn    0.927059   0.893803\n",
      "6  num_cat_origin   model_rf      0.9869    0.91875\n",
      "7  num_cat_origin  model_xgb    0.999992   0.908184\n",
      "      data_name model_name score_train score_test\n",
      "8   num_cat_all  model_lin    0.886706   0.820164\n",
      "9   num_cat_all  model_knn    0.929549    0.85214\n",
      "10  num_cat_all   model_rf    0.986673   0.893801\n",
      "11  num_cat_all  model_xgb    0.999994   0.893935\n",
      "          data_name model_name score_train score_test\n",
      "12  num_cat_all_LLM  model_lin    0.982354   0.772834\n",
      "13  num_cat_all_LLM  model_knn    0.793263   0.669914\n",
      "14  num_cat_all_LLM   model_rf    0.987253   0.890397\n",
      "15  num_cat_all_LLM  model_xgb    0.999681    0.87225\n"
     ]
    }
   ],
   "source": [
    "# wyniki dla danych\n",
    "for data in data_names:\n",
    "    print(results[ results['data_name']==data] )"
   ]
  },
  {
   "cell_type": "code",
   "execution_count": 45,
   "id": "14167aa2",
   "metadata": {},
   "outputs": [
    {
     "name": "stdout",
     "output_type": "stream",
     "text": [
      "          data_name model_name score_train score_test\n",
      "0               num  model_lin    0.832622   0.828823\n",
      "4    num_cat_origin  model_lin    0.876747   0.848826\n",
      "8       num_cat_all  model_lin    0.886706   0.820164\n",
      "12  num_cat_all_LLM  model_lin    0.982354   0.772834\n",
      "          data_name model_name score_train score_test\n",
      "1               num  model_knn     0.89511   0.870602\n",
      "5    num_cat_origin  model_knn    0.927059   0.893803\n",
      "9       num_cat_all  model_knn    0.929549    0.85214\n",
      "13  num_cat_all_LLM  model_knn    0.793263   0.669914\n",
      "          data_name model_name score_train score_test\n",
      "2               num   model_rf    0.980802   0.909116\n",
      "6    num_cat_origin   model_rf      0.9869    0.91875\n",
      "10      num_cat_all   model_rf    0.986673   0.893801\n",
      "14  num_cat_all_LLM   model_rf    0.987253   0.890397\n",
      "          data_name model_name score_train score_test\n",
      "3               num  model_xgb    0.999989   0.908028\n",
      "7    num_cat_origin  model_xgb    0.999992   0.908184\n",
      "11      num_cat_all  model_xgb    0.999994   0.893935\n",
      "15  num_cat_all_LLM  model_xgb    0.999681    0.87225\n"
     ]
    }
   ],
   "source": [
    "# wyniki dla modeli\n",
    "for model_n in models_names:\n",
    "    print(results[ results['model_name']==model_n] )"
   ]
  },
  {
   "cell_type": "code",
   "execution_count": 46,
   "id": "6f04a1fe",
   "metadata": {},
   "outputs": [
    {
     "name": "stdout",
     "output_type": "stream",
     "text": [
      "Najlepsze wyniki dla danych testowych:\n",
      "          data_name model_name score_train score_test\n",
      "6    num_cat_origin   model_rf      0.9869    0.91875\n",
      "2               num   model_rf    0.980802   0.909116\n",
      "7    num_cat_origin  model_xgb    0.999992   0.908184\n",
      "3               num  model_xgb    0.999989   0.908028\n",
      "11      num_cat_all  model_xgb    0.999994   0.893935\n",
      "5    num_cat_origin  model_knn    0.927059   0.893803\n",
      "10      num_cat_all   model_rf    0.986673   0.893801\n",
      "14  num_cat_all_LLM   model_rf    0.987253   0.890397\n",
      "15  num_cat_all_LLM  model_xgb    0.999681    0.87225\n",
      "1               num  model_knn     0.89511   0.870602\n",
      "9       num_cat_all  model_knn    0.929549    0.85214\n",
      "4    num_cat_origin  model_lin    0.876747   0.848826\n",
      "0               num  model_lin    0.832622   0.828823\n",
      "8       num_cat_all  model_lin    0.886706   0.820164\n",
      "12  num_cat_all_LLM  model_lin    0.982354   0.772834\n",
      "13  num_cat_all_LLM  model_knn    0.793263   0.669914\n"
     ]
    }
   ],
   "source": [
    "# najlepsze wyniki dla danych testowych\n",
    "print('Najlepsze wyniki dla danych testowych:')\n",
    "print(results.sort_values(by=['score_test'], ascending=False))"
   ]
  },
  {
   "cell_type": "code",
   "execution_count": 47,
   "id": "9ce496a1",
   "metadata": {},
   "outputs": [
    {
     "data": {
      "text/plain": [
       "<Axes: xlabel='score_train', ylabel='score_test'>"
      ]
     },
     "execution_count": 47,
     "metadata": {},
     "output_type": "execute_result"
    },
    {
     "data": {
      "image/png": "[encoded data removed]",
      "text/plain": [
       "<Figure size 640x480 with 1 Axes>"
      ]
     },
     "metadata": {},
     "output_type": "display_data"
    }
   ],
   "source": [
    "sns.scatterplot(data=results, x='score_train', y='score_test', hue='data_name', style='model_name')"
   ]
  },
  {
   "cell_type": "markdown",
   "id": "5b71bdd6",
   "metadata": {},
   "source": [
    "Metody LinearRegression oraz KNeighborsRegressor dają całkiem niezłe wyniki. Wyniki są mocno zależne od danych, które są przedstawiane do uczenia i testowania."
   ]
  },
  {
   "cell_type": "markdown",
   "id": "101d5f76",
   "metadata": {},
   "source": [
    "Przypominam, że metody RandomForestRegressor oraz xgboost tylko jako punkty odniesienia.\n",
    "\n",
    "Pomysły na ulepszenia:\n",
    "\n",
    "* przegląd danych pod kątem rozkładów, typów relacji, może potraktować logarytmem, itd.\n",
    "\n",
    "* pomysły na traktowanie kategorii w danych\n",
    "\n",
    "* pomysły na nowe features (zmienne na podstawie których ML określa wynik)\n",
    "\n",
    "* inne miary dopasowania modeli, może sposoby uczenia, ...\n",
    "\n",
    "* inny sposób normalizacji danych\n",
    "\n",
    "* może inaczej przygotować dane, inny sposób określenia outliers, ..."
   ]
  }
 ],
 "metadata": {
  "kernelspec": {
   "display_name": ".venv",
   "language": "python",
   "name": "python3"
  },
  "language_info": {
   "codemirror_mode": {
    "name": "ipython",
    "version": 3
   },
   "file_extension": ".py",
   "mimetype": "text/x-python",
   "name": "python",
   "nbconvert_exporter": "python",
   "pygments_lexer": "ipython3",
   "version": "3.13.1"
  }
 },
 "nbformat": 4,
 "nbformat_minor": 5
}
